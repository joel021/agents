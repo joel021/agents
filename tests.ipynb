{
 "cells": [
  {
   "cell_type": "code",
   "id": "initial_id",
   "metadata": {
    "collapsed": true,
    "ExecuteTime": {
     "end_time": "2025-02-08T22:34:38.738713Z",
     "start_time": "2025-02-08T22:34:38.731862Z"
    }
   },
   "source": [
    "def a(a: str, b: str) -> str:\n",
    "\n",
    "    print(f\"{a} and {b}\")\n",
    "\n",
    "def b():\n",
    "\n",
    "    print(\"bbbb hahahaha\")\n",
    "\n",
    "args = {\n",
    "    \"a\": \"aaaa\",\n",
    "    \"b\": \"bbbb\",\n",
    "}\n",
    "\n",
    "b(**{})"
   ],
   "outputs": [
    {
     "name": "stdout",
     "output_type": "stream",
     "text": [
      "bbbb hahahaha\n"
     ]
    }
   ],
   "execution_count": 2
  },
  {
   "metadata": {},
   "cell_type": "code",
   "outputs": [],
   "execution_count": null,
   "source": "",
   "id": "c79e7fb8cb9f0c45"
  }
 ],
 "metadata": {
  "kernelspec": {
   "display_name": "Python 3",
   "language": "python",
   "name": "python3"
  },
  "language_info": {
   "codemirror_mode": {
    "name": "ipython",
    "version": 2
   },
   "file_extension": ".py",
   "mimetype": "text/x-python",
   "name": "python",
   "nbconvert_exporter": "python",
   "pygments_lexer": "ipython2",
   "version": "2.7.6"
  }
 },
 "nbformat": 4,
 "nbformat_minor": 5
}
